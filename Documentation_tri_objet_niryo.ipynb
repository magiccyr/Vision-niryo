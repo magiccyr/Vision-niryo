{
 "cells": [
  {
   "cell_type": "markdown",
   "id": "0c7d238f-c7b8-4676-96d2-48a456f3dbc5",
   "metadata": {},
   "source": [
    "# Documentation du Programme de Tri d'Objets avec Niryo One et Interface Graphique"
   ]
  },
  {
   "cell_type": "markdown",
   "id": "34e0d62c-0397-463b-b169-4dedb08cb1eb",
   "metadata": {},
   "source": [
    "Ce programme permet de contrôler un robot Niryo One pour trier des objets par couleur (vert, rouge, bleu) à l'aide d'une interface graphique (Tkinter). Il utilise la vision par ordinateur (OpenCV) pour détecter les objets dans un espace de travail défini et les déplacer vers des positions prédéfinies"
   ]
  },
  {
   "cell_type": "markdown",
   "id": "2ffe61a1-5051-4b26-83f6-15d6b2b372d0",
   "metadata": {},
   "source": [
    "## 1. Configuration Initiale"
   ]
  },
  {
   "cell_type": "markdown",
   "id": "1bc350c9-c239-4f2b-ab11-d38bf96b2127",
   "metadata": {},
   "source": [
    "### Dépendances"
   ]
  },
  {
   "cell_type": "code",
   "execution_count": null,
   "id": "5bc739f0-84fd-42f0-8581-0af95eb4b312",
   "metadata": {},
   "outputs": [],
   "source": [
    "from pyniryo import *  # Contrôle du robot Niryo\n",
    "import tkinter as tk    # Interface graphique\n",
    "import cv2              # Traitement d'image\n",
    "import numpy as np      # Manipulation de tableaux"
   ]
  },
  {
   "cell_type": "markdown",
   "id": "b0a25979-377b-4e55-8efd-2bcd0c05ed6c",
   "metadata": {},
   "source": [
    "### Définitions des Positions et Couleurs"
   ]
  },
  {
   "cell_type": "markdown",
   "id": "49f605a0-5a66-49eb-b5a4-825bb1f706d3",
   "metadata": {},
   "source": [
    "- Positions de placement (colors) : Positions (en mètres) où le robot dépose les objets selon leur couleur"
   ]
  },
  {
   "cell_type": "code",
   "execution_count": null,
   "id": "43d55ffa-13c1-4913-81f8-67d03bbef7ce",
   "metadata": {},
   "outputs": [],
   "source": [
    "colors = {\n",
    "    \"GREEN\": PoseObject(0.0, 0.2, 0.2, 0.0, 1.57, 1.57),\n",
    "    \"RED\": PoseObject(-0.15, 0.2, 0.2, 0.0, 1.57, 1.57),\n",
    "    \"BLUE\": PoseObject(0.2, 0.2, 0.2, 0.0, 1.57, 1.57),\n",
    "}"
   ]
  },
  {
   "cell_type": "markdown",
   "id": "e3d29fc3-befe-4627-ae36-cf489472b418",
   "metadata": {},
   "source": [
    "- Plages HSV (COLOR_HSV) : Intervalles HSV pour la détection des couleurs."
   ]
  },
  {
   "cell_type": "code",
   "execution_count": null,
   "id": "78bda2c2-92b9-4cf6-99b0-2e93d97f5b95",
   "metadata": {},
   "outputs": [],
   "source": [
    "COLOR_HSV = {\n",
    "    \"GREEN\": ((35, 50, 50), (85, 255, 255)),\n",
    "    \"RED\": ((0, 50, 50), (10, 255, 255)),\n",
    "    \"BLUE\": ((100, 50, 50), (140, 255, 255)),\n",
    "}"
   ]
  },
  {
   "cell_type": "markdown",
   "id": "365c4e8b-c585-4a6a-af20-eb8bb028bd45",
   "metadata": {},
   "source": [
    "###  Connexion au Robot"
   ]
  },
  {
   "cell_type": "markdown",
   "id": "58db2e7b-d040-4e0d-a01b-fbefdd5ef4bd",
   "metadata": {},
   "source": [
    "- Adresse IP : <b>robot_ip_address = \"192.168.0.101\" </b>.\n",
    "\n",
    "- Espace de travail : <b>workspace_name = \"workspace2\"</b> (doit être préalablement calibré via Niryo Studio).\n",
    "\n",
    "- Pose d'observation : Position où le robot observe les objets."
   ]
  },
  {
   "cell_type": "code",
   "execution_count": null,
   "id": "9ce59531-bf21-48b2-ae6c-057e66301c35",
   "metadata": {},
   "outputs": [],
   "source": [
    "observation_pose = PoseObject(x=0.16, y=0.0, z=0.45, roll=0.0, pitch=1.57, yaw=0.0)"
   ]
  },
  {
   "cell_type": "markdown",
   "id": "77e90cf3-c4e2-4b2d-9d44-b7755f325e1b",
   "metadata": {},
   "source": [
    "## 2. Fonctions Clés"
   ]
  },
  {
   "cell_type": "markdown",
   "id": "840a20de-7d26-45f0-8cf8-fb02203e51f7",
   "metadata": {},
   "source": [
    "### tri_objet()"
   ]
  },
  {
   "cell_type": "markdown",
   "id": "b1727c26-c0db-4a24-8a01-54ed5db0b0b9",
   "metadata": {},
   "source": [
    "- <b>Objectif </b>: Trier les objets détectés dans l'espace de travail.\n",
    "\n",
    "- <b>Processus </b>:\n",
    "\n",
    "    - Déplace le robot à la pose d'observation.\n",
    "\n",
    "    - Utilise <b>robot.vision_pick()</b> pour détecter et saisir un objet.\n",
    "\n",
    "    - Si un objet est trouvé, le place à la position correspondante.\n",
    "\n",
    "    - Répète jusqu'à ce qu'aucun objet ne soit détecté."
   ]
  },
  {
   "cell_type": "code",
   "execution_count": null,
   "id": "5f9048e5-261d-4ccb-97a0-6eabcdf38c5c",
   "metadata": {},
   "outputs": [],
   "source": [
    "def tri_objet():\n",
    "    while True:\n",
    "        found_something = False  # Variable pour vérifier si un objet a été trouvé\n",
    "\n",
    "        for couleur, position in colors.items():\n",
    "            robot.move_pose(observation_pose)\n",
    "            robot.wait(1)\n",
    "\n",
    "            # Tentative de prise avec la caméra\n",
    "            obj_found, shape_ret, color_ret = robot.vision_pick(workspace_name, color=couleur)\n",
    "            print(f\"Détection : Forme={shape_ret}, Couleur={color_ret}\")\n",
    "\n",
    "            if obj_found:\n",
    "                found_something = True\n",
    "                robot.place_from_pose(position)\n",
    "                robot.move_pose(observation_pose)\n",
    "            \n",
    "            # Si aucun objet n'a été trouvé dans toute la boucle, on sort de la boucle\n",
    "        if not found_something:\n",
    "            print(\"Aucun objet détecté, arrêt du programme.\")\n",
    "            break\n"
   ]
  },
  {
   "cell_type": "markdown",
   "id": "b6e56e86-72ad-4c9c-978e-ff7244fc0eab",
   "metadata": {},
   "source": [
    "### bouton_video()"
   ]
  },
  {
   "cell_type": "markdown",
   "id": "43a880b7-2a96-44eb-af83-cb443e196392",
   "metadata": {},
   "source": [
    "- Objectif : Afficher un flux vidéo en direct depuis la caméra du robot.\n",
    "\n",
    "- Fonctionnement :\n",
    "\n",
    "    - Capture et décompresse l'image via <b>robot.get_img_compressed()</b>.\n",
    "\n",
    "    - Affiche l'image avec OpenCV (<b>cv2.imshow</b>)."
   ]
  },
  {
   "cell_type": "code",
   "execution_count": null,
   "id": "68049b80-1811-4b22-9b2c-c4063f00ac54",
   "metadata": {},
   "outputs": [],
   "source": [
    "def bouton_video():\n",
    "    # Moving to observation pose\n",
    "    robot.move_pose(observation_pose)\n",
    "\n",
    "    while True:\n",
    "        # Getting image\n",
    "        img_compressed = robot.get_img_compressed()\n",
    "        # Uncompressing image\n",
    "        img_raw = uncompress_image(img_compressed)\n",
    "        # - Display\n",
    "        # Showing images\n",
    "        cv2.imshow(\"video\",img_raw)\n",
    "        key = cv2.waitKey(30)& 0xFF\n",
    "        if key in [27, ord(\"q\")]:  # Will break loop if the user press Escape or Q\n",
    "            break\n",
    "    cv2.destroyAllWindows"
   ]
  },
  {
   "cell_type": "markdown",
   "id": "e29d90f3-2615-4eab-a1f2-caff6707c6ff",
   "metadata": {},
   "source": [
    "### fonction_image(couleur)"
   ]
  },
  {
   "cell_type": "markdown",
   "id": "c5ece416-832f-47a7-96b1-3f6f6909ef84",
   "metadata": {},
   "source": [
    "- <b>Objectif</b> : Afficher un masque filtrant une couleur spécifique (HSV).\n",
    "  \n",
    "- <b>Paramètre</b> : <b>couleur</b> (\"GREEN\", \"RED\", ou \"BLUE\").\n",
    "  \n",
    "- <b>Processus</b> :\n",
    "  \n",
    "    - Convertit l'image en espace HSV.\n",
    "      \n",
    "    - Applique un masque avec <b>cv2.inRange()</b> selon les plages HSV définies."
   ]
  },
  {
   "cell_type": "code",
   "execution_count": null,
   "id": "75cc5630-2c5f-459a-ae04-1d051ab85a1c",
   "metadata": {},
   "outputs": [],
   "source": [
    "def fonction_image(couleur):\n",
    "# Moving to observation pose\n",
    "    robot.move_pose(observation_pose)\n",
    "    lower,upper=COLOR_HSV[couleur]\n",
    "\n",
    "    while True:\n",
    "        # Getting image\n",
    "        img_compressed = robot.get_img_compressed()\n",
    "        # Uncompressing image\n",
    "        img_raw = uncompress_image(img_compressed)\n",
    "        # conversion en HSV\n",
    "        img_hsv=cv2.cvtColor(img_raw,cv2.COLOR_BGR2HSV)\n",
    "        # FILTRAGE DE LA COULEUR\n",
    "        mask=cv2.inRange(img_hsv,np.array(lower),np.array(upper))\n",
    "\n",
    "\n",
    "        # Showing images\n",
    "        cv2.imshow(f\"Detection {couleur}\",mask)\n",
    "        key = cv2.waitKey(30)& 0xFF\n",
    "        if key in [27, ord(\"q\")]:  # Will break loop if the user press Escape or Q\n",
    "            break\n",
    "\n",
    "    cv2.destroyAllWindows\n"
   ]
  },
  {
   "cell_type": "markdown",
   "id": "ca499f9a-aa8b-4ccb-9405-494b49d5937e",
   "metadata": {},
   "source": [
    "### Boutons de l'Interface Graphique"
   ]
  },
  {
   "cell_type": "markdown",
   "id": "e62ec304-8ecd-4699-8c52-eae0c3267933",
   "metadata": {},
   "source": [
    "<b>Boutons</b> :\n",
    "- <b>Video</b> : Lance le flux vidéo.\n",
    "\n",
    "- <b>Filtres Vert/Rouge/Bleu</b> : Affiche le masque de la couleur sélectionnée.\n",
    "    \n",
    "- <b>Tri d'objet</b> : Démarre le tri automatique.\n",
    "\n",
    "- <b>Quitter</b> : Ferme l'application."
   ]
  },
  {
   "cell_type": "markdown",
   "id": "2da2f804-1139-4d97-91ff-5130d84899dc",
   "metadata": {},
   "source": [
    "## 3. Interface Graphique "
   ]
  },
  {
   "cell_type": "markdown",
   "id": "cd08cc08-3dba-4819-a4f3-ff9a4d961b69",
   "metadata": {},
   "source": [
    "- Fenêtre Tkinter :\n",
    "\n",
    "    - <b>Dimensions</b> : 400x300 pixels.\n",
    "  \n",
    "    - Boutons stylisés avec couleurs et polices spécifiques.\n",
    " \n",
    "    - Organisés verticalement avec <b>pack(pady=5)</b>."
   ]
  },
  {
   "cell_type": "markdown",
   "id": "966cc5fc-a717-4bfa-80b1-1be31f1cf392",
   "metadata": {},
   "source": [
    "## 4. Utilisation"
   ]
  },
  {
   "cell_type": "markdown",
   "id": "76441248-55cc-4fad-94cd-1227c73744b4",
   "metadata": {},
   "source": [
    "<b>Fonctionnalités</b> :\n",
    "\n",
    "- Cliquez sur Bouton video pour voir le flux caméra.\n",
    "  \n",
    "- Utilisez les boutons de filtre pour tester la détection de couleur.\n",
    "   \n",
    "- Appuyez sur Tri d'objet pour lancer le tri automatique.\n",
    "\n",
    "- Quitter arrête le programme."
   ]
  },
  {
   "cell_type": "markdown",
   "id": "e46ac1d7-0cf7-4d6f-8b8a-0c3b7a25716c",
   "metadata": {},
   "source": [
    "## 5. Notes Importantes"
   ]
  },
  {
   "cell_type": "markdown",
   "id": "0f6cc343-48c3-4cac-83c6-6e23cbbfc64c",
   "metadata": {},
   "source": [
    "- <b>Calibrage requis</b> : L'espace de travail (<b>workspace2</b>) doit être préalablement configuré via <b>Niryo Studio</b>.\n",
    "  \n",
    "- <b>Connexion réseau</b> : Vérifiez l'adresse IP du robot.\n",
    "  \n",
    "- <b>Sécurité</b> : Assurez-vous que la zone de travail est dégagée avant de démarrer le tri."
   ]
  },
  {
   "cell_type": "markdown",
   "id": "237c5641-e875-404d-bf3d-c308ccaac96e",
   "metadata": {},
   "source": [
    "## 6. Dépannage"
   ]
  },
  {
   "cell_type": "markdown",
   "id": "3359415c-7756-4b7b-8d31-0840bce56905",
   "metadata": {},
   "source": [
    "- <b>Erreurs de connexion</b> : Vérifiez l'IP et le câble Ethernet.\n",
    "\n",
    "- <b>Détection incorrecte</b> : Ajustez les plages <b>HSV</b> dans <b>COLOR_HSV</b>.\n",
    "\n",
    "- <b>Problèmes de mouvement</b> : Recalibrez le robot avec <b>robot.calibrate_auto()</b>."
   ]
  }
 ],
 "metadata": {
  "kernelspec": {
   "display_name": "Python 3 (ipykernel)",
   "language": "python",
   "name": "python3"
  },
  "language_info": {
   "codemirror_mode": {
    "name": "ipython",
    "version": 3
   },
   "file_extension": ".py",
   "mimetype": "text/x-python",
   "name": "python",
   "nbconvert_exporter": "python",
   "pygments_lexer": "ipython3",
   "version": "3.12.6"
  }
 },
 "nbformat": 4,
 "nbformat_minor": 5
}
